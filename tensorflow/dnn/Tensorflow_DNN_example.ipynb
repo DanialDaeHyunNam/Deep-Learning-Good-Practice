{
 "cells": [
  {
   "cell_type": "code",
   "execution_count": 1,
   "metadata": {},
   "outputs": [
    {
     "name": "stderr",
     "output_type": "stream",
     "text": [
      "Using TensorFlow backend.\n"
     ]
    }
   ],
   "source": [
    "import tensorflow as tf\n",
    "import random\n",
    "from keras.utils import np_utils"
   ]
  },
  {
   "cell_type": "code",
   "execution_count": 2,
   "metadata": {},
   "outputs": [
    {
     "name": "stdout",
     "output_type": "stream",
     "text": [
      "(60000, 784) float32\n"
     ]
    }
   ],
   "source": [
    "mnist = tf.keras.datasets.mnist\n",
    "# mnist dataset을 load한다.\n",
    "(x_train, y_train),(x_test, y_test) = mnist.load_data()\n",
    "# minmax 스케일링을 한다. 이는 이미지 전처리의 가장 보편적인 방법 중 하나이다.\n",
    "x_train = x_train.reshape(60000, 784).astype('float32') / 255.0\n",
    "x_test = x_test.reshape(10000, 784).astype('float32') / 255.0\n",
    "print(x_train.shape, x_train.dtype)"
   ]
  },
  {
   "cell_type": "code",
   "execution_count": 3,
   "metadata": {},
   "outputs": [
    {
     "data": {
      "text/plain": [
       "array([[0., 0., 0., 0., 0., 1., 0., 0., 0., 0.],\n",
       "       [1., 0., 0., 0., 0., 0., 0., 0., 0., 0.],\n",
       "       [0., 0., 0., 0., 1., 0., 0., 0., 0., 0.],\n",
       "       [0., 1., 0., 0., 0., 0., 0., 0., 0., 0.],\n",
       "       [0., 0., 0., 0., 0., 0., 0., 0., 0., 1.]], dtype=float32)"
      ]
     },
     "execution_count": 3,
     "metadata": {},
     "output_type": "execute_result"
    }
   ],
   "source": [
    "y_unique_num = len(np.unique(y_train))\n",
    "y_train = np_utils.to_categorical(y_train, y_unique_num)\n",
    "y_test = np_utils.to_categorical(y_test, y_unique_num)\n",
    "y_train[:5]"
   ]
  },
  {
   "cell_type": "code",
   "execution_count": 4,
   "metadata": {},
   "outputs": [
    {
     "data": {
      "text/plain": [
       "((60000, 784), (10000, 784))"
      ]
     },
     "execution_count": 4,
     "metadata": {},
     "output_type": "execute_result"
    }
   ],
   "source": [
    "x_train.shape, x_test.shape"
   ]
  },
  {
   "cell_type": "code",
   "execution_count": 5,
   "metadata": {},
   "outputs": [
    {
     "data": {
      "image/png": "[encoded data removed]",
      "text/plain": [
       "<Figure size 432x288 with 1 Axes>"
      ]
     },
     "metadata": {
      "image/png": {
       "height": 248,
       "width": 252
      }
     },
     "output_type": "display_data"
    }
   ],
   "source": [
    "r = random.randint(0, x_train.shape[0] - 1)\n",
    "plt.imshow(\n",
    "    x_train[r].reshape(28, 28),\n",
    "    cmap=\"Greys\",\n",
    "    interpolation=\"nearest\" # 중간에 비어있는 값 처리\n",
    ")\n",
    "plt.show()"
   ]
  },
  {
   "cell_type": "code",
   "execution_count": 22,
   "metadata": {},
   "outputs": [],
   "source": [
    "class DNNModel:\n",
    "    def __init__(self, config):\n",
    "        self.config = config\n",
    "        self.endpoints = {}\n",
    "        self.graph = tf.Graph()\n",
    "        \n",
    "    def build_net(self, x_placeholder, y_placeholder):\n",
    "        with self.graph.as_default():\n",
    "            with tf.variable_scope(self.config[\"name\"]):\n",
    "\n",
    "                self.X = x_placeholder\n",
    "                self.y = y_placeholder\n",
    "\n",
    "                layer_output_li = []\n",
    "                for idx, n in enumerate(self.config[\"n_li\"][:-1]):\n",
    "                    with tf.name_scope(\"Layer_\" + str(idx)) as scope:\n",
    "                        previous_dim = self.config[\"n_li\"][idx]\n",
    "                        next_dim = self.config[\"n_li\"][idx + 1]\n",
    "                        shape = [previous_dim, next_dim]\n",
    "                        pre_layer_output = layer_output_li[-1] if idx > 0 else self.X\n",
    "                        self.__set_weight_and_bias(idx, shape)\n",
    "                        layer = self.__set_layer_endpoint(idx, pre_layer_output)\n",
    "                        layer_output_li.append(layer)\n",
    "\n",
    "            with tf.name_scope(\"Cost\") as scope:\n",
    "                self.cost = tf.reduce_mean(tf.nn.softmax_cross_entropy_with_logits_v2(logits=self.logits, labels=self.y))\n",
    "                cost_sum = tf.summary.scalar(\"Cost\", self.cost)\n",
    "            \n",
    "            self.predict = tf.argmax(self.logits, 1)\n",
    "            correct_prediction = tf.equal(tf.argmax(self.logits, 1), tf.argmax(self.y, 1))\n",
    "            self.accuracy = tf.reduce_mean(tf.cast(correct_prediction, tf.float32))\n",
    "            \n",
    "    def __set_weight_and_bias(self, idx, shape):\n",
    "        if self.config[\"initializer_li\"][idx] == \"random_normal\":\n",
    "            self.endpoints[\"W_\" + str(idx)] = tf.Variable(tf.random_normal(shape), name = \"W_\" + str(idx))\n",
    "        elif self.config[\"initializer_li\"][idx] == \"xavier\":\n",
    "            self.endpoints[\"W_\" + str(idx)] = tf.get_variable(\"W_\" + str(idx), shape=shape, \n",
    "                                initializer=tf.contrib.layers.xavier_initializer())\n",
    "        self.endpoints[\"b_\" + str(idx)] = tf.Variable(tf.random_normal(shape[1:]), name = \"b_\" + str(idx))\n",
    "        W_hist = tf.summary.histogram(\"W_hist_\" + str(idx), self.endpoints[\"W_\" + str(idx)])\n",
    "        b_hist = tf.summary.histogram(\"b_hist_\" + str(idx), self.endpoints[\"b_\" + str(idx)])\n",
    "    \n",
    "    def __set_layer_endpoint(self, idx, pre_layer_output):\n",
    "        W = self.endpoints[\"W_\" + str(idx)]\n",
    "        b = self.endpoints[\"b_\" + str(idx)]\n",
    "        if idx + 1 == len(self.config[\"n_li\"][:-1]):\n",
    "            self.logits = tf.matmul(pre_layer_output, W) + b\n",
    "            layer_hist = tf.summary.histogram(\"Layer_hist_\" + str(idx), self.logits)\n",
    "            return self.logits\n",
    "        if self.config[\"activation_li\"][idx] == \"sigmoid\":\n",
    "            self.endpoints[\"layer_\" + str(idx)] = tf.sigmoid(tf.matmul(pre_layer_output, W) + b)\n",
    "        elif self.config[\"activation_li\"][idx] == \"relu\":\n",
    "            self.endpoints[\"layer_\" + str(idx)] = tf.nn.relu(tf.matmul(pre_layer_output, W) + b)\n",
    "        layer_hist = tf.summary.histogram(\"Layer_hist_\" + str(idx), self.endpoints[\"layer_\" + str(idx)])       \n",
    "        return self.endpoints[\"layer_\" + str(idx)]"
   ]
  },
  {
   "cell_type": "code",
   "execution_count": 21,
   "metadata": {},
   "outputs": [],
   "source": [
    "def train(model, X_train, y_train, lr=1e-4, epoch=15, batch_size=200):\n",
    "    with model.graph.as_default():\n",
    "        x_placeholder = tf.placeholder(tf.float32, shape=[None, model.config[\"n_features\"]], name=\"X\")\n",
    "        y_placeholder = tf.placeholder(tf.float32, shape=[None, model.config[\"n_class\"]], name=\"y\")\n",
    "\n",
    "    model.build_net(x_placeholder, y_placeholder)\n",
    "    \n",
    "    with tf.Session(graph=model.graph) as sess:\n",
    "        train_op = tf.train.AdamOptimizer(learning_rate=lr).minimize(model.cost)\n",
    "        init = tf.global_variables_initializer()\n",
    "        merged_summary = tf.summary.merge_all()\n",
    "        writer = tf.summary.FileWriter(\"./logs\", sess.graph)\n",
    "        sess.run(init)\n",
    "        for step in range(epoch):\n",
    "            total_batch = int(len(X_train)/batch_size)\n",
    "            c_avg = 0\n",
    "            for i in range(total_batch):\n",
    "                batch_x = X_train[batch_size*i : batch_size*(i+1)]\n",
    "                batch_y = y_train[batch_size*i : batch_size*(i+1)]\n",
    "                summary, c, _  = sess.run([merged_summary, model.cost, train_op], \n",
    "                                              feed_dict={model.X: batch_x, model.y: batch_y})\n",
    "                c_avg = c_avg + (c/total_batch)\n",
    "                writer.add_summary(summary, i)\n",
    "            print(step, c_avg)\n",
    "        saver = tf.train.Saver()\n",
    "        saver.save(sess, './checkpoint/' + model.config[\"name\"] + '.chkp')"
   ]
  },
  {
   "cell_type": "code",
   "execution_count": 20,
   "metadata": {},
   "outputs": [],
   "source": [
    "def predict(model, x_test):\n",
    "    with tf.Session(graph=model.graph) as sess:\n",
    "        saver = tf.train.Saver()\n",
    "        saver.restore(sess, './checkpoint/' + model.config[\"name\"] + '.chkp')\n",
    "        return sess.run([model.predict], feed_dict={model.X : x_test})\n",
    "\n",
    "def accuracy(model, x_test, y_test):\n",
    "    with tf.Session(graph=model.graph) as sess: \n",
    "        saver = tf.train.Saver()\n",
    "        saver.restore(sess, './checkpoint/' + model.config[\"name\"] + '.chkp')\n",
    "        return sess.run([model.accuracy], feed_dict={model.X : x_test, model.y : y_test})"
   ]
  },
  {
   "cell_type": "code",
   "execution_count": 9,
   "metadata": {},
   "outputs": [],
   "source": [
    "n_features = x_train.shape[1]\n",
    "n_class = len(y_train[0])\n",
    "config = {\n",
    "    \"name\" : \"dnn_model\",\n",
    "    \"n_features\" : n_features,\n",
    "    \"n_class\" : n_class,\n",
    "    \"n_li\" : [n_features, 1000, 1000, 1000, n_class],\n",
    "    \"initializer_li\" : [\"xavier\", \"xavier\", \"xavier\", \"xavier\"],\n",
    "    \"activation_li\" : [\"relu\", \"relu\", \"relu\", None]\n",
    "}\n",
    "dnn_model = DNNModel(config)"
   ]
  },
  {
   "cell_type": "code",
   "execution_count": 10,
   "metadata": {},
   "outputs": [
    {
     "name": "stdout",
     "output_type": "stream",
     "text": [
      "0 0.6629932990173493\n",
      "1 0.23762066062539813\n",
      "2 0.17216268016025432\n",
      "3 0.13428670282475652\n",
      "4 0.10850845566640302\n",
      "5 0.08941298353951423\n",
      "6 0.07470236716326326\n",
      "7 0.06300923381466421\n",
      "8 0.053577517019584735\n",
      "9 0.04564294106016557\n",
      "10 0.039113987314049185\n",
      "11 0.03361764366117619\n",
      "12 0.029017086114423947\n",
      "13 0.02516607346090801\n",
      "14 0.02192044693355759\n",
      "CPU times: user 25min 28s, sys: 15.2 s, total: 25min 43s\n",
      "Wall time: 5min 26s\n"
     ]
    }
   ],
   "source": [
    "%%time\n",
    "train(dnn_model, x_train, y_train, epoch=15)"
   ]
  },
  {
   "cell_type": "code",
   "execution_count": 11,
   "metadata": {},
   "outputs": [
    {
     "name": "stdout",
     "output_type": "stream",
     "text": [
      "INFO:tensorflow:Restoring parameters from ./checkpoint/dnn_model.chkp\n"
     ]
    },
    {
     "data": {
      "text/plain": [
       "[0.9749]"
      ]
     },
     "execution_count": 11,
     "metadata": {},
     "output_type": "execute_result"
    }
   ],
   "source": [
    "accuracy(dnn_model, x_test, y_test)"
   ]
  },
  {
   "cell_type": "code",
   "execution_count": 16,
   "metadata": {},
   "outputs": [
    {
     "data": {
      "image/png": "[encoded data removed]",
      "text/plain": [
       "<Figure size 432x288 with 1 Axes>"
      ]
     },
     "metadata": {
      "image/png": {
       "height": 248,
       "width": 252
      }
     },
     "output_type": "display_data"
    },
    {
     "name": "stdout",
     "output_type": "stream",
     "text": [
      "INFO:tensorflow:Restoring parameters from ./checkpoint/dnn_model.chkp\n"
     ]
    },
    {
     "data": {
      "text/plain": [
       "9"
      ]
     },
     "execution_count": 16,
     "metadata": {},
     "output_type": "execute_result"
    }
   ],
   "source": [
    "r = random.randint(0, x_test.shape[0] - 1)\n",
    "plt.imshow(\n",
    "    x_test[r].reshape(28, 28),\n",
    "    cmap=\"Greys\",\n",
    "    interpolation=\"nearest\" # 중간에 비어있는 값 처리\n",
    ")\n",
    "plt.show()\n",
    "predict(dnn_model, x_test[r].reshape(1, 784))[0][0]"
   ]
  },
  {
   "cell_type": "code",
   "execution_count": null,
   "metadata": {},
   "outputs": [],
   "source": []
  }
 ],
 "metadata": {
  "kernelspec": {
   "display_name": "Python 3",
   "language": "python",
   "name": "python3"
  },
  "language_info": {
   "codemirror_mode": {
    "name": "ipython",
    "version": 3
   },
   "file_extension": ".py",
   "mimetype": "text/x-python",
   "name": "python",
   "nbconvert_exporter": "python",
   "pygments_lexer": "ipython3",
   "version": "3.6.5"
  }
 },
 "nbformat": 4,
 "nbformat_minor": 2
}
